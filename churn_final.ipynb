{
 "cells": [
  {
   "cell_type": "markdown",
   "metadata": {
    "id": "qQmEEDNlrTfZ"
   },
   "source": [
    "## Project Preparation\n"
   ]
  },
  {
   "cell_type": "code",
   "execution_count": null,
   "metadata": {
    "id": "-tKeruVMryYY"
   },
   "outputs": [],
   "source": [
    "import pandas as pd\n",
    "import numpy as np\n",
    "from datetime import datetime\n",
    "\n",
    "# # please do not modify the variables below\n",
    "# CHURN_STATUS_TAB = pd.read_csv(r\"/content/hackathon/QB Sample Data/churn_status_tracked.csv\")\n",
    "# DEPOSIT_TAB = pd.read_csv(r\"/content/hackathon/QB Sample Data/deposit_paid.csv\")\n",
    "# EVENT_TAB = pd.read_csv(r\"/content/hackathon/QB Sample Data/event_tracked.csv\")\n",
    "# TRADE_TAB = pd.read_csv(r\"/content/hackathon/QB Sample Data/trade_filled.csv\")\n",
    "# USER_TAB = pd.read_csv(r\"/content/hackathon/QB Sample Data/user_details.csv\")\n",
    "# WITHDRAWAL_TAB = pd.read_csv(r\"/content/hackathon/QB Sample Data/withdrawal_executed.csv\")"
   ]
  },
  {
   "cell_type": "markdown",
   "metadata": {
    "id": "V7mCjSjQuCVS"
   },
   "source": [
    "## Data Exploration and Features Engineering"
   ]
  },
  {
   "cell_type": "markdown",
   "metadata": {
    "id": "hGtfTabDwNeN"
   },
   "source": [
    "### Churn status changing from 1 to 0\n",
    "The dependent variable of our model is a way to show the churn status, if we use \"churn status changed from 1 to 0\"(this also is way to show the churn status) as one of the independent variables, this independent variable will be highly related to the dependent variable, so that the feature importance of this independent variable will be very high and other independent variables will be meaningless to our model.\n",
    "\n",
    "However, this variable can provide some insights, so we'd better move this to data exploration or business insights. "
   ]
  },
  {
   "cell_type": "markdown",
   "metadata": {
    "id": "MsHKjm3OFuqV"
   },
   "source": [
    "### Holding period\n",
    "\n",
    "We believe the customers who hold stocks in a long period have a higher probability of using buy-and-hold strategy, and they will be less likely to churn."
   ]
  },
  {
   "cell_type": "code",
   "execution_count": null,
   "metadata": {
    "colab": {
     "base_uri": "https://localhost:8080/"
    },
    "executionInfo": {
     "elapsed": 3822,
     "status": "ok",
     "timestamp": 1670316562861,
     "user": {
      "displayName": "yue zhang",
      "userId": "04332605654091818561"
     },
     "user_tz": -480
    },
    "id": "D42_OtUaMFkx",
    "outputId": "37ecc836-0ae8-4789-e06f-be5379cde7a0"
   },
   "outputs": [
    {
     "name": "stdout",
     "output_type": "stream",
     "text": [
      "     identifier  holding_period\n",
      "1             1             NaN\n",
      "2             2           80.00\n",
      "3             3            4.71\n",
      "4             4            0.00\n",
      "5             5             NaN\n",
      "..          ...             ...\n",
      "496         496             NaN\n",
      "497         497           23.50\n",
      "498         498           20.33\n",
      "499         499             NaN\n",
      "500         500             NaN\n",
      "\n",
      "[500 rows x 2 columns]\n",
      "31.987436708860756\n"
     ]
    }
   ],
   "source": [
    "def get_holding_period():\n",
    "    df_out = pd.DataFrame()\n",
    "\n",
    "    for identifier in range(1,501):\n",
    "        trading_period = []\n",
    "        df = TRADE_TAB[TRADE_TAB[\"identifier\"] == identifier]\n",
    "        stocks = df[\"ticker\"].unique()\n",
    "        for stock in stocks:\n",
    "            df_stock = df[df[\"ticker\"] == stock]\n",
    "            df_stock = df_stock.sort_values(by = \"trade_filled_at\")\n",
    "            df_stock = df_stock.reset_index()\n",
    "            if len(df_stock) >= 2:\n",
    "                for i in range(1, len(df_stock)):\n",
    "                    if df_stock.loc[i-1, \"side\"] == \"buy\" and df_stock.loc[i, \"side\"] == \"sell\":\n",
    "                        t1 = datetime.strptime(df_stock.loc[i-1, \"trade_filled_at\"], \"%Y-%m-%d %H:%M:%S\")\n",
    "                        t2 = datetime.strptime(df_stock.loc[i, \"trade_filled_at\"], \"%Y-%m-%d %H:%M:%S\")\n",
    "                        timediff = (t2 - t1).days\n",
    "                        trading_period.append(timediff)\n",
    "        if len(trading_period) == 0:\n",
    "            df_out.loc[identifier, \"identifier\"] = identifier\n",
    "            # t1 = datetime.strptime(TRADE_TAB[\"trade_filled_at\"].min(), \"%Y-%m-%d %H:%M:%S\")\n",
    "            # t2 = datetime.strptime(TRADE_TAB[\"trade_filled_at\"].max(), \"%Y-%m-%d %H:%M:%S\")\n",
    "            # largest_timediff = (t2 - t1).days\n",
    "            # df_out.loc[identifier, \"holding_period\"] = largest_timediff\n",
    "            df_out.loc[identifier, \"holding_period\"] = None\n",
    "\n",
    "        else:\n",
    "            df_out.loc[identifier, \"identifier\"] = identifier\n",
    "            df_out.loc[identifier, \"holding_period\"] = round(sum(trading_period) / len(trading_period), 2)\n",
    "    df_out[\"identifier\"] = df_out[\"identifier\"].astype(int)\n",
    "    print(df_out)\n",
    "    df_out.to_csv(\"/content/sample_data/holding_period.csv\", index = False)\n",
    "    print(df_out[\"holding_period\"].mean())\n",
    "                           \n",
    "\n",
    "get_holding_period()"
   ]
  },
  {
   "cell_type": "markdown",
   "metadata": {
    "id": "SbzEjE9Vumsc"
   },
   "source": [
    "## Model Selection and Model Building"
   ]
  },
  {
   "cell_type": "code",
   "execution_count": null,
   "metadata": {
    "colab": {
     "base_uri": "https://localhost:8080/"
    },
    "executionInfo": {
     "elapsed": 1840,
     "status": "ok",
     "timestamp": 1670546580590,
     "user": {
      "displayName": "yue zhang",
      "userId": "04332605654091818561"
     },
     "user_tz": -480
    },
    "id": "3UfRnYL3Tizw",
    "outputId": "08cb7e97-1b14-4357-c359-a4853dfc76a0"
   },
   "outputs": [
    {
     "name": "stdout",
     "output_type": "stream",
     "text": [
      "298\n",
      "202\n"
     ]
    }
   ],
   "source": [
    "# oversampling\n",
    "from imblearn.over_sampling import SMOTE\n",
    "from imblearn.over_sampling import RandomOverSampler\n",
    "import pandas as pd\n",
    "\n",
    "master_df = pd.read_csv(\"/content/master_table.csv\")\n",
    "master_df = master_df.dropna(axis = 1, how = \"all\")\n",
    "\n",
    "X = master_df.iloc[:,1:-1].dropna(axis = 1, how = \"all\")\n",
    "y = master_df.iloc[:,-1]\n",
    "\n",
    "\n",
    "\n",
    "# # ros = RandomOverSampler(random_state=0)\n",
    "# # X, y = ros.fit_resample(X, y)\n",
    "\n",
    "print((y == 0).sum())\n",
    "print((y == 1).sum())\n",
    "\n",
    "# # oversample = SMOTE()\n",
    "# # X_resampled, y_resampled = oversample.fit_resample(X, y)\n"
   ]
  },
  {
   "cell_type": "code",
   "execution_count": null,
   "metadata": {},
   "outputs": [],
   "source": [
    "# model building and optimization \n",
    "import xgboost\n",
    "from sklearn.metrics import auc, accuracy_score, confusion_matrix, mean_squared_error\n",
    "from sklearn.model_selection import cross_val_score, cross_validate, GridSearchCV\n",
    "from xgboost import XGBClassifier\n",
    "\n",
    "\n",
    "params = {\n",
    "     'max_depth': [1, 3, 5, 7, 10],\n",
    "     'min_child_weight': [0.2, 0.5, 1, 3], \n",
    "     'learning_rate': [0.1, 0.2, 0.3, 0.4, 0.5],\n",
    "     }\n",
    "          #  'n_estimators': [100, 500, 1000],\n",
    "          #  'colsample_bytree': [0.3, 0.7]\n",
    "\n",
    "xgb = XGBClassifier(seed = 123)\n",
    "\n",
    "grid = GridSearchCV(estimator = xgb, \n",
    "                   param_grid = params, scoring=\"f1\",\n",
    "                   cv = 5)\n",
    "grid.fit(X, y)\n",
    "\n",
    "for i in range(len(grid.cv_results_[\"params\"])):\n",
    "  print(grid.cv_results_[\"params\"][i], \":\", grid.cv_results_[\"mean_test_score\"][i])\n",
    "\n",
    "# print()\n",
    "print(\"best parameters:\", grid.best_params_)\n",
    "\n",
    "# print()\n",
    "# features = X.columns.tolist()\n",
    "feature_imp = grid.best_estimator_.feature_importances_\n",
    "# n = len(features)\n",
    "# for i in range(n):\n",
    "#   print(f\"the feature importance of {features[i]} is {feature_imp[i]}\")\n"
   ]
  },
  {
   "cell_type": "code",
   "execution_count": null,
   "metadata": {},
   "outputs": [],
   "source": [
    "from matplotlib.pyplot import figure\n",
    "import matplotlib.pyplot as plt\n",
    "import numpy as np\n",
    "\n",
    "print(\"best parameters:\", grid.best_params_)\n",
    "\n",
    "\n",
    "print()\n",
    "objects = X.columns.tolist()\n",
    "y_pos = np.arange(len(objects))\n",
    "performance = feature_imp\n",
    "\n",
    "figure(figsize=(8, 6), dpi=80)\n",
    "\n",
    "\n",
    "\n",
    "color_list=['grey'] * 2 + ['blue'] + ['grey'] * 13 + ['blue'] + ['grey'] * 6 + ['blue']\n",
    "plt.barh( y_pos,performance, align='center', alpha=0.5, color = color_list)\n",
    "plt.yticks(y_pos, objects)\n",
    "# # plt.xticks(rotation = 270)\n",
    "plt.xlabel('feature importance')\n",
    "plt.show()"
   ]
  },
  {
   "cell_type": "code",
   "execution_count": null,
   "metadata": {
    "colab": {
     "base_uri": "https://localhost:8080/",
     "height": 767
    },
    "executionInfo": {
     "elapsed": 1714,
     "status": "error",
     "timestamp": 1670546624807,
     "user": {
      "displayName": "yue zhang",
      "userId": "04332605654091818561"
     },
     "user_tz": -480
    },
    "id": "QBq8LHfjdCEP",
    "outputId": "4723ee9a-b04f-4f1a-b602-11277d1dee53"
   },
   "outputs": [
    {
     "data": {
      "image/png": "[encoded data removed]",
      "text/plain": [
       "<Figure size 540x540 with 1 Axes>"
      ]
     },
     "metadata": {
      "needs_background": "light"
     },
     "output_type": "display_data"
    },
    {
     "name": "stdout",
     "output_type": "stream",
     "text": [
      "precision is 0.8272425249169435\n",
      "recall is 0.8355704697986577\n",
      "F1_score is 0.8313856427378965\n"
     ]
    },
    {
     "ename": "TypeError",
     "evalue": "ignored",
     "output_type": "error",
     "traceback": [
      "\u001b[0;31m---------------------------------------------------------------------------\u001b[0m",
      "\u001b[0;31mTypeError\u001b[0m                                 Traceback (most recent call last)",
      "\u001b[0;32m<ipython-input-4-7d3adcc03d66>\u001b[0m in \u001b[0;36m<module>\u001b[0;34m\u001b[0m\n\u001b[1;32m     41\u001b[0m \u001b[0mprint\u001b[0m\u001b[0;34m(\u001b[0m\u001b[0;34mf\"F1_score is {F1_score}\"\u001b[0m\u001b[0;34m)\u001b[0m\u001b[0;34m\u001b[0m\u001b[0;34m\u001b[0m\u001b[0m\n\u001b[1;32m     42\u001b[0m \u001b[0;34m\u001b[0m\u001b[0m\n\u001b[0;32m---> 43\u001b[0;31m \u001b[0mprint\u001b[0m\u001b[0;34m(\u001b[0m\u001b[0mrecall_score\u001b[0m\u001b[0;34m(\u001b[0m\u001b[0mbest_model\u001b[0m\u001b[0;34m)\u001b[0m\u001b[0;34m)\u001b[0m\u001b[0;34m\u001b[0m\u001b[0;34m\u001b[0m\u001b[0m\n\u001b[0m",
      "\u001b[0;31mTypeError\u001b[0m: recall_score() missing 1 required positional argument: 'y_pred'"
     ]
    }
   ],
   "source": [
    "# model evaluation\n",
    "# cv_results = grid.cv_results_\n",
    "# cv_results\n",
    "from xgboost import XGBClassifier\n",
    "from sklearn.model_selection import cross_val_predict\n",
    "from sklearn.metrics import confusion_matrix, ConfusionMatrixDisplay\n",
    "import matplotlib.pyplot as plt\n",
    "import time\n",
    "import datetime\n",
    "from sklearn.metrics import recall_score\n",
    "\n",
    "y_true = y.tolist()\n",
    "best_model = XGBClassifier(max_depth = 3, min_child_weight = 0.2, learning_rate = 0.1,\n",
    "                           scale_pos_weight= 0.7, seed = 1)\n",
    "y_pred = cross_val_predict(best_model, X, y, cv = 5)\n",
    "\n",
    "cm = confusion_matrix(y_true, y_pred)\n",
    "\n",
    "# cm_disp = ConfusionMatrixDisplay(confusion_matrix=cm)\n",
    "# cm_disp.plot()\n",
    "# plt.show()\n",
    "\n",
    "conf_matrix = cm\n",
    "fig, ax = plt.subplots(figsize=(7.5, 7.5))\n",
    "ax.matshow(conf_matrix, cmap=plt.cm.Blues, alpha=0.4)\n",
    "for i in range(conf_matrix.shape[0]):\n",
    "    for j in range(conf_matrix.shape[1]):\n",
    "        ax.text(x=j, y=i,s=conf_matrix[i, j], va='center', ha='center', size='x-large', fontsize=50)\n",
    " \n",
    "plt.xlabel('Predictions', fontsize=20)\n",
    "plt.ylabel('Actuals', fontsize=20)\n",
    "plt.title('Confusion Matrix (imbalanced)', fontsize=25, pad=30)\n",
    "plt.tick_params(axis='both',  labelsize=20)\n",
    "plt.show()\n",
    "\n",
    "precision = cm[0][0] / (cm[0][0] + cm[1][0])\n",
    "recall = cm[0][0] / (cm[0][0] + cm[0][1])\n",
    "F1_score = 2 * precision * recall / (precision + recall)\n",
    "print(f\"precision is {precision}\")\n",
    "print(f\"recall is {recall}\")\n",
    "print(f\"F1_score is {F1_score}\")\n"
   ]
  },
  {
   "cell_type": "code",
   "execution_count": null,
   "metadata": {
    "colab": {
     "base_uri": "https://localhost:8080/",
     "height": 279
    },
    "executionInfo": {
     "elapsed": 380,
     "status": "ok",
     "timestamp": 1670509102809,
     "user": {
      "displayName": "yue zhang",
      "userId": "04332605654091818561"
     },
     "user_tz": -480
    },
    "id": "MgaEsZ2r4TQ-",
    "outputId": "495a579c-0d23-479c-c6de-b50993c23969"
   },
   "outputs": [
    {
     "data": {
      "image/png": "[encoded data removed]",
      "text/plain": [
       "<Figure size 432x288 with 1 Axes>"
      ]
     },
     "metadata": {
      "needs_background": "light"
     },
     "output_type": "display_data"
    }
   ],
   "source": [
    "# libraries\n",
    "import numpy as np\n",
    "import matplotlib.pyplot as plt\n",
    " \n",
    "# width of the bars\n",
    "barWidth = 0.2\n",
    " \n",
    "# Choose the height of the blue bars\n",
    "bars3 = [82.27, 86.59, ]\n",
    " \n",
    "# Choose the height of the cyan bars\n",
    "bars2 = [ 83.56, 80.20,]\n",
    "\n",
    "bars1 = [ 83.14, 83.28,]\n",
    " \n",
    "# The x position of bars\n",
    "r1 = np.arange(len(bars1))\n",
    "r2 = [x + barWidth for x in r1]\n",
    "r3 = [x + barWidth for x in r2]\n",
    "\n",
    "# Create blue bars\n",
    "plt.barh(r1, bars1, height = barWidth, color = ['#b4d5ea', '#f8c19f'], edgecolor = 'grey',  capsize=7, label='poacee')\n",
    "plt.barh(r2, bars2, height = barWidth, color = ['#b4d5ea', '#f8c19f'], edgecolor = 'grey',  capsize=7, label='sorgho')\n",
    "plt.barh(r3, bars3, height = barWidth, color = ['#b4d5ea', '#f8c19f'], edgecolor = 'grey',  capsize=7, label='sorgho')\n",
    "\n",
    "plt.xlim(0,110)\n",
    "\n",
    "# # general layout\n",
    "plt.yticks([0, 0.2, 0.4, 1, 1.2, 1.4], ['F1-score', 'recall',  'precision', 'F1-score',  'recall', 'precision'])\n",
    "\n",
    "plt.xlabel('Trueness (%)')\n",
    "# plt.legend()\n",
    " \n",
    "# Show graphic\n",
    "plt.show()"
   ]
  },
  {
   "cell_type": "code",
   "execution_count": null,
   "metadata": {
    "colab": {
     "base_uri": "https://localhost:8080/",
     "height": 664
    },
    "executionInfo": {
     "elapsed": 1046,
     "status": "ok",
     "timestamp": 1670511291937,
     "user": {
      "displayName": "yue zhang",
      "userId": "04332605654091818561"
     },
     "user_tz": -480
    },
    "id": "Cu9u6K6eGrTx",
    "outputId": "e027bc7d-ad0d-4a7f-e38b-d167c939ab8a"
   },
   "outputs": [
    {
     "name": "stdout",
     "output_type": "stream",
     "text": [
      "\n",
      "[0.0, 0.0, 0.0, 0.0, 0.0, 0.0, 0.0, 0.00976154, 0.028131364, 0.030422894, 0.034400728, 0.03474904, 0.036087483, 0.04106068, 0.04167679, 0.0421424, 0.049796008, 0.05291487, 0.053729407, 0.062003713, 0.08370511, 0.08410765, 0.10183917, 0.21347114]\n",
      "['gender', 'is_hometab', 'is_searchdiscoverscreen', 'is_portfoliogrowthscreen', 'is_employed', 'is_professional', 'investment_experience', 'is_pendingwithdrawalslistwidget', 'is_stockchartscreen', 'is_entrepreneur', 'likely_incentivised', 'num_sell', 'portfolio_beta', 'age', 'num_buy', 'days_accessed', 'purchased_hot', 'events_per_day', 'deposit_freq', 'market_timing', 'early_users', 'portfolio_performance', 'max_stock_weightage', 'holding_period']\n"
     ]
    },
    {
     "data": {
      "image/png": "[encoded data removed]",
      "text/plain": [
       "<Figure size 640x640 with 1 Axes>"
      ]
     },
     "metadata": {
      "needs_background": "light"
     },
     "output_type": "display_data"
    }
   ],
   "source": [
    "# code for getting feature importance\n",
    "\n",
    "from matplotlib.pyplot import figure\n",
    "import matplotlib.pyplot as plt\n",
    "import numpy as np\n",
    "\n",
    "best_model.fit(X, y)\n",
    "performance = best_model.feature_importances_\n",
    "\n",
    "print()\n",
    "objects = X.columns.tolist()\n",
    "y_pos = np.arange(len(objects))\n",
    "performance = feature_imp\n",
    "\n",
    "mydict = {}\n",
    "for i in range(len(performance)):\n",
    "  mydict.update({objects[i]: performance[i]})\n",
    "\n",
    "mydict_sorted = {k: v for k, v in sorted(mydict.items(), key=lambda item: item[1])}\n",
    "# print(mydict_sorted)\n",
    "\n",
    "performance1 = []\n",
    "objects1 = []\n",
    "for (a, b) in mydict_sorted.items():\n",
    "  performance1.append(b)\n",
    "  objects1.append(a)\n",
    "\n",
    "print(performance1)\n",
    "print(objects1)\n",
    "# '#b4d5ea', '##ffe8e8e8'\n",
    "\n",
    "figure(figsize=(8, 8), dpi=80)\n",
    "color_list =  [\"#bfbfbf\"] * 20 + [\"#91d2ff\"] * 4\n",
    "plt.barh(y_pos, performance1, align='center', color = color_list )\n",
    "plt.yticks(y_pos, objects1)\n",
    "# plt.xticks(rotation = 270)\n",
    "plt.xlabel('importance')\n",
    "plt.grid(True, axis=\"x\")\n",
    "plt.title('Feature Importance', fontsize = 25, pad = 20)\n",
    "plt.show()"
   ]
  },
  {
   "cell_type": "code",
   "execution_count": null,
   "metadata": {
    "colab": {
     "base_uri": "https://localhost:8080/"
    },
    "executionInfo": {
     "elapsed": 513,
     "status": "ok",
     "timestamp": 1670553885223,
     "user": {
      "displayName": "yue zhang",
      "userId": "04332605654091818561"
     },
     "user_tz": -480
    },
    "id": "hWV5afB1bqTb",
    "outputId": "c059ae1e-e8e7-47ca-dbcd-a3f5d15d4e2f"
   },
   "outputs": [
    {
     "name": "stdout",
     "output_type": "stream",
     "text": [
      "sum of churns in actual: 204 total sample is 500   0.408\n",
      "sum of churns in prediction: 170 total sample is 500   0.34\n"
     ]
    }
   ],
   "source": [
    "# code for A/B test\n",
    "\n",
    "from sklearn.metrics import f1_score\n",
    "from sklearn.metrics import precision_score\n",
    "from sklearn.metrics import recall_score\n",
    "\n",
    "master_df = pd.read_csv(\"/content/master_table.csv\")\n",
    "master_df = master_df.dropna(axis = 1, how = \"all\")\n",
    "\n",
    "X = master_df.iloc[:,1:-1].dropna(axis = 1, how = \"all\")\n",
    "y = master_df.iloc[:,-1]\n",
    "\n",
    "best_model = XGBClassifier(max_depth = 3, min_child_weight = 0.2, learning_rate = 0.1, scale_pos_weight= 0.7, seed = 1)\n",
    "\n",
    "\n",
    "best_model.fit(X, y)\n",
    "\n",
    "\n",
    "y1 = best_model.predict(X)\n",
    "print(f\"sum of churns in actual: {y1.sum()} total sample is {len(y1)}   {y1.sum() / len(y1)}\" )\n",
    "\n",
    "\n",
    "\n",
    "X_test = X\n",
    "X_test[\"holding_period\"] = X_test[\"holding_period\"] / 4\n",
    "y2 = best_model.predict(X_test)\n",
    "\n",
    "print(f\"sum of churns in prediction: {y2.sum()} total sample is {len(y2)}   {y2.sum() / len(y2)}\" )\n",
    "\n",
    "# X_test = X\n",
    "# X_test[\"holding_period\"] = X_test[\"holding_period\"] / 2\n",
    "# X_test[\"portfolio_performance\"] = X_test[\"portfolio_performance\"] \n",
    "\n",
    "# y2 = best_model.predict(X_test)\n",
    "\n",
    "# print(\"holding_period / 2\")\n",
    "# print(f\"in actual, {y1.sum()} customers will churn\")\n",
    "# print(f\"in prediction, {y2.sum()} customers will churn\")\n",
    "\n"
   ]
  },
  {
   "cell_type": "code",
   "execution_count": null,
   "metadata": {
    "colab": {
     "base_uri": "https://localhost:8080/"
    },
    "executionInfo": {
     "elapsed": 1858,
     "status": "ok",
     "timestamp": 1670256318349,
     "user": {
      "displayName": "yue zhang",
      "userId": "04332605654091818561"
     },
     "user_tz": -480
    },
    "id": "yxSox55r8F7o",
    "outputId": "f0985973-c4f4-45ee-b7de-ad85ba477ddd"
   },
   "outputs": [
    {
     "name": "stdout",
     "output_type": "stream",
     "text": [
      "the number of customer who churned and hasn't come back: 200\n",
      "their identifiers are: [2, 6, 7, 10, 12, 14, 15, 20, 22, 24, 25, 27, 30, 33, 35, 36, 37, 38, 41, 43, 46, 48, 49, 50, 52, 53, 55, 57, 59, 64, 67, 68, 72, 76, 79, 80, 82, 83, 87, 89, 90, 93, 95, 97, 99, 100, 103, 104, 105, 106, 110, 114, 118, 120, 121, 122, 124, 128, 130, 131, 133, 141, 147, 152, 153, 154, 156, 157, 160, 163, 164, 170, 171, 173, 174, 176, 177, 178, 181, 184, 189, 194, 195, 199, 200, 202, 203, 204, 206, 207, 208, 212, 213, 215, 216, 219, 220, 223, 227, 229, 230, 233, 234, 235, 245, 248, 249, 250, 252, 253, 256, 258, 259, 261, 264, 266, 270, 271, 272, 274, 275, 277, 279, 282, 285, 289, 291, 293, 304, 306, 310, 313, 317, 318, 322, 323, 325, 328, 330, 331, 333, 335, 339, 343, 346, 349, 351, 352, 353, 355, 357, 358, 359, 360, 361, 362, 365, 369, 372, 373, 374, 375, 376, 377, 383, 385, 386, 387, 390, 391, 392, 398, 405, 408, 409, 410, 419, 421, 429, 430, 433, 436, 441, 442, 446, 451, 455, 458, 459, 461, 473, 479, 481, 487, 489, 490, 492, 494, 498, 499]\n",
      "\n",
      "the number of cusomter who came back after getting churned: 4\n",
      "their identifiers are: [155, 193, 228, 295]\n"
     ]
    }
   ],
   "source": [
    "def get_churn_status_change():\n",
    "    df_out = pd.DataFrame()\n",
    "\n",
    "    for i in range(1,501):\n",
    "        df = CHURN_STATUS_TAB[CHURN_STATUS_TAB[\"identifier\"] == i]\n",
    "        if df[\"is_churn\"].nunique() == 2:\n",
    "\n",
    "            df1 = df[df[\"is_churn\"] == 1]\n",
    "            # max1 = df1[\"churn_status_tracked_at\"].max()\n",
    "            min1 = df1[\"churn_status_tracked_at\"].min()\n",
    "\n",
    "            df0 = df[df[\"is_churn\"] == 0]\n",
    "            max0 = df0[\"churn_status_tracked_at\"].max()\n",
    "            # min0 = df0[\"churn_status_tracked_at\"].min()\n",
    "\n",
    "            if max0 < min1:\n",
    "                df_out.loc[i, \"identifier\"] = i\n",
    "                df_out.loc[i, \"churn_from_0_to_1\"] = 1\n",
    "\n",
    "            # if max1 < min0:\n",
    "            #     df_out.loc[i, \"identifier\"] = i\n",
    "            #     df_out.loc[i, \"churn_from_1_to_0\"] = 1\n",
    "        else:\n",
    "            df_out.loc[i, \"identifier\"] = i\n",
    "            # df_out.loc[i, \"churn_from_1_to_0\"] = 0\n",
    "            df_out.loc[i, \"churn_from_0_to_1\"] = 0\n",
    "\n",
    "    df_out[\"identifier\"] = df_out[\"identifier\"].astype(int)\n",
    "    df_out[\"churn_from_0_to_1\"] = df_out[\"churn_from_0_to_1\"].astype(int)\n",
    "    df_out.fillna(0, inplace = True)\n",
    "    print(\"the number of customer who churned and hasn't came back:\", df_out[\"churn_from_0_to_1\"].sum())\n",
    "    print(\"their identifiers are:\", df_out[df_out[\"churn_from_0_to_1\"] == 1][\"identifier\"].tolist())\n",
    "    print()\n",
    "\n",
    "    print(\"the number of cusomter who came back after getting churned:\", 500 - len(df_out))\n",
    "    came_back_customer = []\n",
    "    for i in range(1, 501):\n",
    "      if i not in df_out[\"identifier\"].tolist():\n",
    "        came_back_customer.append(i)\n",
    "    print(\"their identifiers are:\", came_back_customer)\n",
    "\n",
    "get_churn_status_change()"
   ]
  },
  {
   "cell_type": "markdown",
   "metadata": {
    "id": "Ja_3LXhhDWmQ"
   },
   "source": [
    "Based on the analysis above, we found that 204 out of 500 customers churned between 31 March 2022 and 2 November 2022, 200 of the churned customers hasn't came back, and only 4 of the churned cusomter came back after churned.\n"
   ]
  }
 ],
 "metadata": {
  "colab": {
   "provenance": []
  },
  "kernelspec": {
   "display_name": "Python 3 (ipykernel)",
   "language": "python",
   "name": "python3"
  },
  "language_info": {
   "codemirror_mode": {
    "name": "ipython",
    "version": 3
   },
   "file_extension": ".py",
   "mimetype": "text/x-python",
   "name": "python",
   "nbconvert_exporter": "python",
   "pygments_lexer": "ipython3",
   "version": "3.9.12"
  }
 },
 "nbformat": 4,
 "nbformat_minor": 1
}
